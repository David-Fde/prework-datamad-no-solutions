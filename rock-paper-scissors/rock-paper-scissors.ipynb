{
 "cells": [
  {
   "cell_type": "markdown",
   "metadata": {},
   "source": [
    "# Rock Paper Scissors\n",
    "\n",
    "Let's play the famous game against our computer.\n",
    "\n",
    "https://en.wikipedia.org/wiki/Rock%E2%80%93paper%E2%80%93scissors\n",
    "\n",
    "The use of functions is recommended\n",
    "\n",
    "## Goals\n",
    "1. Use of loop\n",
    "2. Data capture by console\n",
    "3. Use if-elif-else\n",
    "4. Use of try-except\n",
    "5. Definition of functions. Modular programming\n",
    "6. Logical operators.\n",
    "7. Print\n",
    "8. Import modules"
   ]
  },
  {
   "cell_type": "code",
   "execution_count": null,
   "metadata": {},
   "outputs": [],
   "source": [
    "# Import the choice function of the random module\n",
    "# https://stackoverflow.com/questions/306400/how-to-randomly-select-an-item-from-a-list\n",
    "\n",
    "\n",
    "# Assign to a list the 3 possible options: 'stone', 'paper' or 'scissors'.\n",
    "\n",
    "\n",
    "# Assign a variable to the maximum number of games: 1, 3, 5, etc ...\n",
    "\n",
    "\n",
    "# Assign a variable to the number of games a player must win to win.\n",
    "# Preferably the value will be based on the number of maximum games\n",
    "\n",
    "\n",
    "# Define a function that randomly returns one of the 3 options.\n",
    "# This will correspond to the play of the machine. Totally random.\n",
    "\n",
    "\n",
    "# Define a function that asks your choice: 'stone', 'paper' or 'scissors'\n",
    "# you should only allow one of the 3 options. This is defensive programming.\n",
    "# If it is not stone, paper or scissors keep asking until it is.\n",
    "\n",
    "\n",
    "# Define a function that resolves a combat.\n",
    "# Returns 0 if there is a tie, 1 if the machine wins, 2 if the human player wins\n",
    " \n",
    "    \n",
    "# Define a function that shows the choice of each player and the state of the game\n",
    "# This function should be used every time accumulated points are updated\n",
    "\n",
    "    \n",
    "# Create two variables that accumulate the wins of each participant\n",
    "\n",
    "\n",
    "# Create a loop that iterates while no player reaches the minimum of wins\n",
    "# necessary to win. Inside the loop solves the play of the\n",
    "# machine and ask the player's. Compare them and update the value of the variables\n",
    "# that accumulate the wins of each participant.\n",
    "\n",
    "    \n",
    "# Print by console the winner of the game based on who has more accumulated wins\n",
    "  "
   ]
  },
  {
   "cell_type": "code",
   "execution_count": 7,
   "metadata": {},
   "outputs": [
    {
     "name": "stdout",
     "output_type": "stream",
     "text": [
      "Your play: stone, paper, scissors: stone\n"
     ]
    },
    {
     "ename": "NameError",
     "evalue": "name 'machine' is not defined",
     "output_type": "error",
     "traceback": [
      "\u001b[0;31m---------------------------------------------------------------------------\u001b[0m",
      "\u001b[0;31mNameError\u001b[0m                                 Traceback (most recent call last)",
      "\u001b[0;32m<ipython-input-7-469d5d620774>\u001b[0m in \u001b[0;36m<module>\u001b[0;34m\u001b[0m\n\u001b[1;32m     38\u001b[0m \u001b[0;32mwhile\u001b[0m \u001b[0mmachineWins\u001b[0m \u001b[0;34m<\u001b[0m \u001b[0mminimumWins\u001b[0m \u001b[0;32mor\u001b[0m \u001b[0mhumanWins\u001b[0m \u001b[0;34m<\u001b[0m \u001b[0mminimumWins\u001b[0m\u001b[0;34m:\u001b[0m\u001b[0;34m\u001b[0m\u001b[0;34m\u001b[0m\u001b[0m\n\u001b[1;32m     39\u001b[0m     \u001b[0;32mif\u001b[0m \u001b[0mcombat\u001b[0m\u001b[0;34m(\u001b[0m\u001b[0mhumanChoice\u001b[0m\u001b[0;34m(\u001b[0m\u001b[0;34m)\u001b[0m\u001b[0;34m,\u001b[0m\u001b[0mmachineChoice\u001b[0m\u001b[0;34m(\u001b[0m\u001b[0;34m)\u001b[0m\u001b[0;34m)\u001b[0m \u001b[0;34m==\u001b[0m \u001b[0;36m1\u001b[0m\u001b[0;34m:\u001b[0m\u001b[0;34m\u001b[0m\u001b[0;34m\u001b[0m\u001b[0m\n\u001b[0;32m---> 40\u001b[0;31m         \u001b[0mshowChoices\u001b[0m\u001b[0;34m(\u001b[0m\u001b[0;34m)\u001b[0m\u001b[0;34m\u001b[0m\u001b[0;34m\u001b[0m\u001b[0m\n\u001b[0m\u001b[1;32m     41\u001b[0m         \u001b[0mmachineWins\u001b[0m \u001b[0;34m+=\u001b[0m \u001b[0;36m1\u001b[0m\u001b[0;34m\u001b[0m\u001b[0;34m\u001b[0m\u001b[0m\n\u001b[1;32m     42\u001b[0m     \u001b[0;32melif\u001b[0m \u001b[0mcombat\u001b[0m\u001b[0;34m(\u001b[0m\u001b[0mhumanChoice\u001b[0m\u001b[0;34m(\u001b[0m\u001b[0;34m)\u001b[0m\u001b[0;34m,\u001b[0m\u001b[0mmachineChoice\u001b[0m\u001b[0;34m(\u001b[0m\u001b[0;34m)\u001b[0m\u001b[0;34m)\u001b[0m \u001b[0;34m==\u001b[0m \u001b[0;36m2\u001b[0m\u001b[0;34m:\u001b[0m\u001b[0;34m\u001b[0m\u001b[0;34m\u001b[0m\u001b[0m\n",
      "\u001b[0;32m<ipython-input-7-469d5d620774>\u001b[0m in \u001b[0;36mshowChoices\u001b[0;34m()\u001b[0m\n\u001b[1;32m     28\u001b[0m \u001b[0;34m\u001b[0m\u001b[0m\n\u001b[1;32m     29\u001b[0m \u001b[0;32mdef\u001b[0m \u001b[0mshowChoices\u001b[0m\u001b[0;34m(\u001b[0m\u001b[0;34m)\u001b[0m\u001b[0;34m:\u001b[0m\u001b[0;34m\u001b[0m\u001b[0;34m\u001b[0m\u001b[0m\n\u001b[0;32m---> 30\u001b[0;31m     \u001b[0mprint\u001b[0m\u001b[0;34m(\u001b[0m\u001b[0;34m'Machine: {} Human: {}'\u001b[0m \u001b[0;34m.\u001b[0m\u001b[0mformat\u001b[0m\u001b[0;34m(\u001b[0m\u001b[0mmachine\u001b[0m\u001b[0;34m,\u001b[0m \u001b[0mhuman\u001b[0m\u001b[0;34m)\u001b[0m\u001b[0;34m)\u001b[0m\u001b[0;34m\u001b[0m\u001b[0;34m\u001b[0m\u001b[0m\n\u001b[0m\u001b[1;32m     31\u001b[0m     \u001b[0mprint\u001b[0m\u001b[0;34m(\u001b[0m\u001b[0;34m'Machine Wins: '\u001b[0m\u001b[0;34m,\u001b[0m \u001b[0mmachineWins\u001b[0m\u001b[0;34m)\u001b[0m\u001b[0;34m\u001b[0m\u001b[0;34m\u001b[0m\u001b[0m\n\u001b[1;32m     32\u001b[0m     \u001b[0mprint\u001b[0m\u001b[0;34m(\u001b[0m\u001b[0;34m'Human Wins: '\u001b[0m\u001b[0;34m,\u001b[0m \u001b[0mhumanWins\u001b[0m\u001b[0;34m)\u001b[0m\u001b[0;34m\u001b[0m\u001b[0;34m\u001b[0m\u001b[0m\n",
      "\u001b[0;31mNameError\u001b[0m: name 'machine' is not defined"
     ]
    }
   ],
   "source": [
    "def machineChoice():\n",
    "    import random\n",
    "    outcome = [('stone'),('paper'),('scissors')]\n",
    "    machine = (random.choice(outcome))\n",
    "    return machine\n",
    "\n",
    "def humanChoice():\n",
    "    human = ''\n",
    "    while human != 'stone' or human != 'paper' or human != 'scissors':\n",
    "        human = input('Your play: stone, paper, scissors: ')\n",
    "        return human\n",
    "        \n",
    "def combat(machine,human):\n",
    "    if machine == human:\n",
    "        return 0\n",
    "    elif machine == 'stone' and human == 'scissors':\n",
    "        return 1\n",
    "    elif machine == 'stone' and human == 'paper':\n",
    "        return 2\n",
    "    elif machine == 'paper' and human == 'scissors':\n",
    "        return 2\n",
    "    elif machine == 'paper' and human == 'stone':\n",
    "        return 1\n",
    "    elif machine == 'scissors' and human == 'paper':\n",
    "        return 1\n",
    "    elif machine == 'scissors' and human == 'stone':\n",
    "        return 2\n",
    "\n",
    "def showChoices():\n",
    "    print('Machine: {} Human: {}' .format(machine, human))\n",
    "    print('Machine Wins: ', machineWins)\n",
    "    print('Human Wins: ', humanWins)\n",
    "    \n",
    "machineWins = 0\n",
    "humanWins = 0\n",
    "minimumWins = 3\n",
    "\n",
    "while machineWins < minimumWins or humanWins < minimumWins:\n",
    "    if combat(humanChoice(),machineChoice()) == 1:\n",
    "        showChoices()\n",
    "        machineWins += 1\n",
    "    elif combat(humanChoice(),machineChoice()) == 2:\n",
    "        showChoices()\n",
    "        humanWins += 1"
   ]
  },
  {
   "cell_type": "markdown",
   "metadata": {},
   "source": [
    "**Expected output**: Depends on the inputs, you know how to play and what to expect. "
   ]
  },
  {
   "cell_type": "markdown",
   "metadata": {},
   "source": [
    "# Bonus: Stone, paper, scissors, lizard, spock\n",
    "\n",
    "Now the improvement begins.\n",
    "\n",
    "![](images/rpsls.jpg)\n",
    "\n",
    "\n",
    "http://www.samkass.com/theories/RPSSL.html\n",
    "\n",
    "You are asked to impliment some improvements with respect to the simple previous game. In addition, the number of games (which must be ODD) will be requested per console until a valid number is entered.\n",
    "\n",
    "Improvements:\n",
    "* 5 options: stone, paper, scissors, lizard, spock\n",
    "* The number of games is requested per console\n",
    "Tip: Reuse code that you already use. If you have programmed intelligently, the bonus are simple modifications to the original game."
   ]
  },
  {
   "cell_type": "code",
   "execution_count": null,
   "metadata": {},
   "outputs": [],
   "source": [
    "# Import the choice function of the random module\n",
    "\n",
    "\n",
    "# Define a function that asks for an odd number on the keyboard, until it is not valid\n",
    "# will keep asking\n",
    "\n",
    "\n",
    "# Assign a list of 5 possible options.\n",
    "\n",
    "\n",
    "# Assign a variable to the maximum number of games: 1, 3, 5, etc ...\n",
    "# This time the previously defined function is used\n",
    "\n",
    "\n",
    "# Assign a variable to the number of games a player must win to win.\n",
    "# Preferably the value will be based on the number of maximum games\n",
    "\n",
    "\n",
    "# Define a function that randomly returns one of the 5 options.\n",
    "# This will correspond to the play of the machine. Totally random.\n",
    "\n",
    "\n",
    "# Define a function that asks your choice between 5\n",
    "# you should only allow one of the 5 options. This is defensive programming.\n",
    "# If it is not valid, keep asking until it is valid.\n",
    "\n",
    "\n",
    "# Define a function that resolves a combat.\n",
    "# Returns 0 if there is a tie, 1 if the machine wins, 2 if the human player wins\n",
    "# Now there are more options\n",
    "\n",
    "\n",
    "    \n",
    "# Define a function that shows the choice of each player and the state of the game\n",
    "# This function should be used every time accumulated points are updated\n",
    "\n",
    "    \n",
    "# Create two variables that accumulate the wins of each participant\n",
    "\n",
    "\n",
    "# Create a loop that iterates while no player reaches the minimum of wins\n",
    "# necessary to win. Inside the loop solves the play of the\n",
    "# machine and ask the player's. Compare them and update the value of the variables\n",
    "# that accumulate the wins of each participant.\n",
    "    \n",
    "    \n",
    "# Print by console the winner of the game based on who has more accumulated wins\n",
    "\n"
   ]
  },
  {
   "cell_type": "markdown",
   "metadata": {},
   "source": [
    "**Expected output**: Depends on the inputs, you know how to play and what to expect. "
   ]
  },
  {
   "cell_type": "code",
   "execution_count": null,
   "metadata": {},
   "outputs": [],
   "source": []
  }
 ],
 "metadata": {
  "kernelspec": {
   "display_name": "Python 3",
   "language": "python",
   "name": "python3"
  },
  "language_info": {
   "codemirror_mode": {
    "name": "ipython",
    "version": 3
   },
   "file_extension": ".py",
   "mimetype": "text/x-python",
   "name": "python",
   "nbconvert_exporter": "python",
   "pygments_lexer": "ipython3",
   "version": "3.6.8"
  }
 },
 "nbformat": 4,
 "nbformat_minor": 2
}
